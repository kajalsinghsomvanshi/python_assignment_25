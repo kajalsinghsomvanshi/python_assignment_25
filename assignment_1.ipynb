{
 "cells": [
  {
   "cell_type": "markdown",
   "id": "c68aeef9-1ad9-4854-ba1d-ed6857091c0a",
   "metadata": {},
   "source": [
    "--------------------ASSIGNMENT---------------------------------"
   ]
  },
  {
   "cell_type": "markdown",
   "id": "609164ec-df07-4511-88a5-fe8b9562f4fd",
   "metadata": {},
   "source": [
    "1. Write a Python program to print \"Hello Python\"?\n"
   ]
  },
  {
   "cell_type": "code",
   "execution_count": 1,
   "id": "8983e406-9427-400c-80fb-f5f17ece82ef",
   "metadata": {},
   "outputs": [
    {
     "name": "stdout",
     "output_type": "stream",
     "text": [
      "\"HELLO PYTHON\"\n"
     ]
    }
   ],
   "source": [
    "print(\"\\\"HELLO PYTHON\\\"\")"
   ]
  },
  {
   "cell_type": "markdown",
   "id": "5ba7e324-5943-499e-b09b-2f3d5a5a7044",
   "metadata": {},
   "source": [
    "2.Write a Python program to do arithmetical operations addition and division.?\n"
   ]
  },
  {
   "cell_type": "code",
   "execution_count": 2,
   "id": "61a5755f-10d9-4527-8b60-5e2cd5a343ab",
   "metadata": {},
   "outputs": [
    {
     "name": "stdout",
     "output_type": "stream",
     "text": [
      "75\n",
      "2.0\n"
     ]
    }
   ],
   "source": [
    "number = 50\n",
    "number2 = 25\n",
    "Total = number+number2\n",
    "division = number/number2\n",
    "print(Total)\n",
    "print(division)\n"
   ]
  },
  {
   "cell_type": "markdown",
   "id": "68e0b31d-f6ee-4c5b-a858-a6ea2edc87b2",
   "metadata": {},
   "source": [
    "3.Write a Python program to find the area of a triangle?\n"
   ]
  },
  {
   "cell_type": "code",
   "execution_count": 6,
   "id": "a9750c9a-cedf-4cd0-ae04-7643b00d44e1",
   "metadata": {},
   "outputs": [
    {
     "name": "stdin",
     "output_type": "stream",
     "text": [
      "Enter value of base:  25\n",
      "Enter value of height:  25\n"
     ]
    },
    {
     "name": "stdout",
     "output_type": "stream",
     "text": [
      "This is area of triangle 312.5\n"
     ]
    }
   ],
   "source": [
    "#area of triangle \n",
    "#1/2*base*height\n",
    "base = int(input(\"Enter value of base: \"))\n",
    "height= int(input(\"Enter value of height: \"))\n",
    "area = 1/2*base*height\n",
    "print(\"This is area of triangle\", area )\n",
    "           "
   ]
  },
  {
   "cell_type": "markdown",
   "id": "2bf7899b-33bb-4b2a-a876-b6b3442e0ca7",
   "metadata": {},
   "source": [
    "4. Write a Python program to swap two variables?"
   ]
  },
  {
   "cell_type": "code",
   "execution_count": null,
   "id": "2b77b119-375a-4cba-887f-84bfc14bb581",
   "metadata": {},
   "outputs": [],
   "source": [
    "first_variable = 25\n",
    "second_variable = 55\n",
    "first_variable,second_variable = second_variable,first_variable\n",
    "\n",
    "\n",
    "print(\"first variable value after swap: \", first_variable)\n",
    "print(\"second variable value after swap: \", second_variable)"
   ]
  },
  {
   "cell_type": "markdown",
   "id": "d689fc19-3575-41e7-a577-87f5f62ad060",
   "metadata": {},
   "source": [
    "5. Write a Python program to generate a random number?\n"
   ]
  },
  {
   "cell_type": "code",
   "execution_count": 7,
   "id": "2c8a2ae5-0ffc-418c-bb61-e3d755d3fd5b",
   "metadata": {},
   "outputs": [
    {
     "data": {
      "text/plain": [
       "0.54931582383104"
      ]
     },
     "execution_count": 7,
     "metadata": {},
     "output_type": "execute_result"
    }
   ],
   "source": [
    "import random \n",
    "random.random()"
   ]
  },
  {
   "cell_type": "code",
   "execution_count": 8,
   "id": "ccd006bb-62b5-48d4-b953-f46fa6902c4a",
   "metadata": {},
   "outputs": [
    {
     "data": {
      "text/plain": [
       "387"
      ]
     },
     "execution_count": 8,
     "metadata": {},
     "output_type": "execute_result"
    }
   ],
   "source": [
    "random.randint(200,500)\n"
   ]
  },
  {
   "cell_type": "code",
   "execution_count": 14,
   "id": "c4cd9108-7385-4ca3-a09b-6fc4bb9f3ac0",
   "metadata": {},
   "outputs": [
    {
     "data": {
      "text/plain": [
       "357"
      ]
     },
     "execution_count": 14,
     "metadata": {},
     "output_type": "execute_result"
    }
   ],
   "source": [
    "random.randrange(1,500,4)"
   ]
  },
  {
   "cell_type": "code",
   "execution_count": null,
   "id": "0e8783d4-00e5-4e0d-bdc7-44e04fe258c3",
   "metadata": {},
   "outputs": [],
   "source": []
  },
  {
   "cell_type": "code",
   "execution_count": null,
   "id": "0d573d0c-3e6a-4a09-a980-16d10aa40bdb",
   "metadata": {},
   "outputs": [],
   "source": []
  }
 ],
 "metadata": {
  "kernelspec": {
   "display_name": "Python 3 (ipykernel)",
   "language": "python",
   "name": "python3"
  },
  "language_info": {
   "codemirror_mode": {
    "name": "ipython",
    "version": 3
   },
   "file_extension": ".py",
   "mimetype": "text/x-python",
   "name": "python",
   "nbconvert_exporter": "python",
   "pygments_lexer": "ipython3",
   "version": "3.12.7"
  }
 },
 "nbformat": 4,
 "nbformat_minor": 5
}
